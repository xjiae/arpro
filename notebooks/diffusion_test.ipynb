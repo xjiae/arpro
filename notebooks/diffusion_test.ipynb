{
 "cells": [
  {
   "cell_type": "code",
   "execution_count": 1,
   "id": "45b80eda-613f-4055-ac4f-e715229fcc79",
   "metadata": {},
   "outputs": [
    {
     "name": "stderr",
     "output_type": "stream",
     "text": [
      "/home/antonxue/lib/miniconda3/envs/arpro/lib/python3.11/site-packages/tqdm/auto.py:21: TqdmWarning: IProgress not found. Please update jupyter and ipywidgets. See https://ipywidgets.readthedocs.io/en/stable/user_install.html\n",
      "  from .autonotebook import tqdm as notebook_tqdm\n"
     ]
    }
   ],
   "source": [
    "import sys\n",
    "sys.path.append(\"..\")\n",
    "import torch\n",
    "from diffusers import UNet2DModel, DDIMScheduler, DDPMPipeline\n",
    "\n",
    "from fixer.models import *"
   ]
  },
  {
   "cell_type": "code",
   "execution_count": null,
   "id": "a69c813c-b026-48eb-af16-56433302f7fc",
   "metadata": {},
   "outputs": [],
   "source": []
  },
  {
   "cell_type": "code",
   "execution_count": 2,
   "id": "6eabbcd9-c1cb-4411-b6a6-76a3eb73276a",
   "metadata": {},
   "outputs": [],
   "source": [
    "mydiff = MyDiffusionModel()\n",
    "mydiff.eval().cuda();"
   ]
  },
  {
   "cell_type": "code",
   "execution_count": 3,
   "id": "a065924e-b2d5-495b-b98b-351fb209edb9",
   "metadata": {},
   "outputs": [],
   "source": [
    "unet = UNet2DModel(sample_size=256)\n",
    "scheduler = DDIMScheduler()\n",
    "pipeline = DDPMPipeline(unet, scheduler)"
   ]
  },
  {
   "cell_type": "code",
   "execution_count": null,
   "id": "6e828fae-5b21-4c47-a0e8-594f094ff006",
   "metadata": {},
   "outputs": [],
   "source": []
  },
  {
   "cell_type": "code",
   "execution_count": 4,
   "id": "ddc39369-fd3e-4539-a2ad-c919ff1db990",
   "metadata": {},
   "outputs": [],
   "source": [
    "N = 7\n",
    "x = torch.zeros(N,3,256,256)\n",
    "eps = torch.randn(1,3,256,256).repeat(N,1,1,1)\n",
    "# t = torch.LongTensor([len(scheduler.timesteps)]) - 1"
   ]
  },
  {
   "cell_type": "code",
   "execution_count": null,
   "id": "0a0e9ab6-908d-4f82-b25d-006c985185a1",
   "metadata": {},
   "outputs": [],
   "source": []
  },
  {
   "cell_type": "code",
   "execution_count": 10,
   "id": "a6f4ea56-d1ca-4bc1-ac11-1c66ef8befc6",
   "metadata": {},
   "outputs": [],
   "source": [
    "t = torch.randint(0, mydiff.num_timesteps, (1,))"
   ]
  },
  {
   "cell_type": "code",
   "execution_count": 11,
   "id": "6d99f61e-c1a0-4f03-be36-04f6698daed9",
   "metadata": {},
   "outputs": [],
   "source": [
    "x_noised = mydiff.add_noise(x, eps, t)"
   ]
  },
  {
   "cell_type": "code",
   "execution_count": 12,
   "id": "5685de0f-dc05-4950-9180-4b8e65b68995",
   "metadata": {},
   "outputs": [
    {
     "data": {
      "text/plain": [
       "tensor(0.)"
      ]
     },
     "execution_count": 12,
     "metadata": {},
     "output_type": "execute_result"
    }
   ],
   "source": [
    "(x_noised[0] - x_noised[1]).abs().sum()"
   ]
  },
  {
   "cell_type": "code",
   "execution_count": 8,
   "id": "6fd585ac-b4df-4b13-b6c3-0dbf4ed66256",
   "metadata": {},
   "outputs": [],
   "source": [
    "# out = mydiff(x.cuda(), t.cuda(), num_inference_steps=10, enable_grad=False, progress_bar=True)"
   ]
  },
  {
   "cell_type": "code",
   "execution_count": 9,
   "id": "f31231e8-1add-4e45-b983-44a00bdce08b",
   "metadata": {},
   "outputs": [
    {
     "ename": "NameError",
     "evalue": "name 'out' is not defined",
     "output_type": "error",
     "traceback": [
      "\u001b[0;31m---------------------------------------------------------------------------\u001b[0m",
      "\u001b[0;31mNameError\u001b[0m                                 Traceback (most recent call last)",
      "Cell \u001b[0;32mIn[9], line 1\u001b[0m\n\u001b[0;32m----> 1\u001b[0m \u001b[43mout\u001b[49m\u001b[38;5;241m.\u001b[39mshape\n",
      "\u001b[0;31mNameError\u001b[0m: name 'out' is not defined"
     ]
    }
   ],
   "source": [
    "out.shape"
   ]
  },
  {
   "cell_type": "code",
   "execution_count": null,
   "id": "f311530c-2333-484f-a5b7-0678338457de",
   "metadata": {},
   "outputs": [],
   "source": [
    "# samples = pipeline(batch_size=2, num_inference_steps=10)"
   ]
  },
  {
   "cell_type": "code",
   "execution_count": null,
   "id": "54a4b7ea-d669-4390-b27a-682a6f29cec2",
   "metadata": {},
   "outputs": [],
   "source": []
  },
  {
   "cell_type": "code",
   "execution_count": null,
   "id": "044210d0-1629-4da4-9722-8ec5055eb9ad",
   "metadata": {},
   "outputs": [],
   "source": [
    "noised = scheduler.add_noise(x, eps, t-1)"
   ]
  },
  {
   "cell_type": "code",
   "execution_count": null,
   "id": "4e489303-fc74-42fa-ac12-3aa3317adcbc",
   "metadata": {},
   "outputs": [],
   "source": [
    "noised.shape"
   ]
  },
  {
   "cell_type": "code",
   "execution_count": null,
   "id": "d4a1059c-5ef0-4f7e-8a0d-842f1115df8c",
   "metadata": {},
   "outputs": [],
   "source": [
    "scheduler.set_timesteps(777)"
   ]
  },
  {
   "cell_type": "code",
   "execution_count": null,
   "id": "e6b606fe-05db-48bc-bb2e-68f44b166538",
   "metadata": {},
   "outputs": [],
   "source": [
    "scheduler.num_inference_steps"
   ]
  },
  {
   "cell_type": "code",
   "execution_count": null,
   "id": "fb832a5b-1924-4796-9b99-9054d6557d78",
   "metadata": {},
   "outputs": [],
   "source": []
  },
  {
   "cell_type": "code",
   "execution_count": null,
   "id": "e56484dc-687a-4838-9651-38bc858672f7",
   "metadata": {},
   "outputs": [],
   "source": []
  }
 ],
 "metadata": {
  "kernelspec": {
   "display_name": "Python 3 (ipykernel)",
   "language": "python",
   "name": "python3"
  },
  "language_info": {
   "codemirror_mode": {
    "name": "ipython",
    "version": 3
   },
   "file_extension": ".py",
   "mimetype": "text/x-python",
   "name": "python",
   "nbconvert_exporter": "python",
   "pygments_lexer": "ipython3",
   "version": "3.11.8"
  }
 },
 "nbformat": 4,
 "nbformat_minor": 5
}
