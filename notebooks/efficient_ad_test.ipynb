{
 "cells": [
  {
   "cell_type": "code",
   "execution_count": 1,
   "id": "bfae134f-31d6-4269-861f-30dde12e85e3",
   "metadata": {},
   "outputs": [
    {
     "name": "stderr",
     "output_type": "stream",
     "text": [
      "/home/antonxue/lib/miniconda3/envs/arpro/lib/python3.11/site-packages/tqdm/auto.py:21: TqdmWarning: IProgress not found. Please update jupyter and ipywidgets. See https://ipywidgets.readthedocs.io/en/stable/user_install.html\n",
      "  from .autonotebook import tqdm as notebook_tqdm\n"
     ]
    },
    {
     "data": {
      "text/plain": [
       "<torch._C.Generator at 0x7f461017e310>"
      ]
     },
     "execution_count": 1,
     "metadata": {},
     "output_type": "execute_result"
    }
   ],
   "source": [
    "import sys\n",
    "sys.path.append(\"..\")\n",
    "\n",
    "import torch\n",
    "import torch.optim as optim\n",
    "\n",
    "import matplotlib.pyplot as plt\n",
    "\n",
    "from datasets import *\n",
    "from ad import *\n",
    "\n",
    "torch.manual_seed(1234)"
   ]
  },
  {
   "cell_type": "code",
   "execution_count": 2,
   "id": "01b249eb-072e-4e05-a66e-b580961a3fd4",
   "metadata": {},
   "outputs": [],
   "source": [
    "ead = EfficientAdADModel()\n",
    "ead.train();"
   ]
  },
  {
   "cell_type": "code",
   "execution_count": 3,
   "id": "5d2bffd7-8e30-4800-9af9-d7d5942e5f90",
   "metadata": {},
   "outputs": [
    {
     "data": {
      "text/plain": [
       "True"
      ]
     },
     "execution_count": 3,
     "metadata": {},
     "output_type": "execute_result"
    }
   ],
   "source": [
    "ead.training"
   ]
  },
  {
   "cell_type": "code",
   "execution_count": 4,
   "id": "f867b95a-75ad-43fe-aa56-9cc632f52295",
   "metadata": {},
   "outputs": [],
   "source": [
    "x = torch.rand(7,3,256,256)\n",
    "ximg = torch.rand(7,3,256,256)"
   ]
  },
  {
   "cell_type": "code",
   "execution_count": 5,
   "id": "0eba09de-9bec-4c8e-93a6-a154bc58c938",
   "metadata": {},
   "outputs": [],
   "source": [
    "out = ead(x, ximg)"
   ]
  },
  {
   "cell_type": "code",
   "execution_count": 6,
   "id": "b0e7e4be-691f-49bb-bb3f-279c53104069",
   "metadata": {},
   "outputs": [
    {
     "data": {
      "text/plain": [
       "torch.Size([7, 1, 256, 256])"
      ]
     },
     "execution_count": 6,
     "metadata": {},
     "output_type": "execute_result"
    }
   ],
   "source": [
    "out.alpha.shape"
   ]
  },
  {
   "cell_type": "code",
   "execution_count": 7,
   "id": "ed69801e-71e3-4f0e-a21f-32b035999fe2",
   "metadata": {},
   "outputs": [
    {
     "data": {
      "text/plain": [
       "dict_keys(['loss_st', 'loss_ae', 'loss_stae', 'anomaly_map', 'map_st', 'map_ae'])"
      ]
     },
     "execution_count": 7,
     "metadata": {},
     "output_type": "execute_result"
    }
   ],
   "source": [
    "out.others.keys()"
   ]
  },
  {
   "cell_type": "code",
   "execution_count": 8,
   "id": "da16e203-f255-49c9-83ab-c71841bea68d",
   "metadata": {},
   "outputs": [
    {
     "data": {
      "text/plain": [
       "(torch.Size([7, 1, 256, 256]), torch.Size([7, 1, 256, 256]))"
      ]
     },
     "execution_count": 8,
     "metadata": {},
     "output_type": "execute_result"
    }
   ],
   "source": [
    "out.others[\"anomaly_map\"].shape, out.alpha.shape"
   ]
  },
  {
   "cell_type": "code",
   "execution_count": 9,
   "id": "d086d365-d1c9-4d7b-9456-1a232cd60a5f",
   "metadata": {},
   "outputs": [
    {
     "data": {
      "text/plain": [
       "(torch.Size([7, 1, 256, 256]), torch.Size([7, 1, 256, 256]))"
      ]
     },
     "execution_count": 9,
     "metadata": {},
     "output_type": "execute_result"
    }
   ],
   "source": [
    "out.others[\"map_st\"].shape, out.others[\"map_ae\"].shape"
   ]
  },
  {
   "cell_type": "code",
   "execution_count": null,
   "id": "7c180760-5088-4a41-a4cf-2a2e98014202",
   "metadata": {},
   "outputs": [],
   "source": []
  },
  {
   "cell_type": "code",
   "execution_count": null,
   "id": "ad0b3e8a-39ed-4ec5-93bf-a4b8961ff8fa",
   "metadata": {},
   "outputs": [],
   "source": []
  },
  {
   "cell_type": "code",
   "execution_count": 10,
   "id": "e531d78f-1788-444b-b474-9f95316e0ac4",
   "metadata": {},
   "outputs": [
    {
     "data": {
      "text/plain": [
       "(torch.Size([7]), torch.Size([7]), torch.Size([7]))"
      ]
     },
     "execution_count": 10,
     "metadata": {},
     "output_type": "execute_result"
    }
   ],
   "source": [
    "out.others[\"loss_st\"].shape, out.others[\"loss_ae\"].shape, out.others[\"loss_stae\"].shape"
   ]
  },
  {
   "cell_type": "code",
   "execution_count": 11,
   "id": "8a746faf-f603-459e-85c9-1f80f43c3752",
   "metadata": {},
   "outputs": [
    {
     "data": {
      "text/plain": [
       "tensor([0.0242, 0.0242, 0.0242, 0.0242, 0.0242, 0.0242, 0.0242],\n",
       "       grad_fn=<AddBackward0>)"
      ]
     },
     "execution_count": 11,
     "metadata": {},
     "output_type": "execute_result"
    }
   ],
   "source": [
    "out.others[\"loss_st\"]"
   ]
  },
  {
   "cell_type": "code",
   "execution_count": 12,
   "id": "df4792e4-e3d2-4d08-8702-e2200a2196a3",
   "metadata": {},
   "outputs": [
    {
     "data": {
      "text/plain": [
       "tensor([0.0019, 0.0019, 0.0019, 0.0019, 0.0019, 0.0019, 0.0019],\n",
       "       grad_fn=<MeanBackward1>)"
      ]
     },
     "execution_count": 12,
     "metadata": {},
     "output_type": "execute_result"
    }
   ],
   "source": [
    "out.others[\"loss_ae\"]"
   ]
  },
  {
   "cell_type": "code",
   "execution_count": 13,
   "id": "3fe766ca-700d-4e74-95a6-d8d4fcbe5290",
   "metadata": {},
   "outputs": [
    {
     "data": {
      "text/plain": [
       "tensor([0.0024, 0.0024, 0.0024, 0.0024, 0.0024, 0.0024, 0.0024],\n",
       "       grad_fn=<MeanBackward1>)"
      ]
     },
     "execution_count": 13,
     "metadata": {},
     "output_type": "execute_result"
    }
   ],
   "source": [
    "out.others[\"loss_stae\"]"
   ]
  },
  {
   "cell_type": "code",
   "execution_count": 14,
   "id": "5c12f1b8-0a2a-40b4-88a2-dc28ddb950f1",
   "metadata": {},
   "outputs": [
    {
     "data": {
      "text/plain": [
       "tensor([0.0026, 0.0026, 0.0026, 0.0026, 0.0026, 0.0026, 0.0026])"
      ]
     },
     "execution_count": 14,
     "metadata": {},
     "output_type": "execute_result"
    }
   ],
   "source": [
    "out.score"
   ]
  },
  {
   "cell_type": "code",
   "execution_count": null,
   "id": "e0a6fc46-3eca-4bb2-bdd9-cda403a90931",
   "metadata": {},
   "outputs": [],
   "source": []
  },
  {
   "cell_type": "code",
   "execution_count": null,
   "id": "61ccf1c1-39ad-42e5-8982-08ec0837a8f2",
   "metadata": {},
   "outputs": [],
   "source": []
  }
 ],
 "metadata": {
  "kernelspec": {
   "display_name": "Python 3 (ipykernel)",
   "language": "python",
   "name": "python3"
  },
  "language_info": {
   "codemirror_mode": {
    "name": "ipython",
    "version": 3
   },
   "file_extension": ".py",
   "mimetype": "text/x-python",
   "name": "python",
   "nbconvert_exporter": "python",
   "pygments_lexer": "ipython3",
   "version": "3.11.8"
  }
 },
 "nbformat": 4,
 "nbformat_minor": 5
}
