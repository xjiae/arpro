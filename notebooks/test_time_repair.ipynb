{
 "cells": [
  {
   "cell_type": "code",
   "execution_count": 1,
   "metadata": {},
   "outputs": [
    {
     "name": "stderr",
     "output_type": "stream",
     "text": [
      "/home/antonxue/lib/miniconda3/envs/arpro/lib/python3.11/site-packages/tqdm/auto.py:21: TqdmWarning: IProgress not found. Please update jupyter and ipywidgets. See https://ipywidgets.readthedocs.io/en/stable/user_install.html\n",
      "  from .autonotebook import tqdm as notebook_tqdm\n"
     ]
    }
   ],
   "source": [
    "import sys\n",
    "sys.path.append(\"..\")\n",
    "import torch\n",
    "import numpy as np\n",
    "import torch.nn as nn\n",
    "import matplotlib.pyplot as plt\n",
    "from datasets import get_timeseries_bundle\n",
    "from ad.models import GPT2ADModel\n",
    "from fixer.models import MyTimeDiffusionModel\n",
    "from fixer.time_repair import *\n",
    "torch.cuda.set_device(1)\n"
   ]
  },
  {
   "cell_type": "code",
   "execution_count": 2,
   "metadata": {},
   "outputs": [
    {
     "name": "stdout",
     "output_type": "stream",
     "text": [
      "loading cache from /home/antonxue/foo/data/swat/cache/swat_W100_Ctrain_Lall.cache\n",
      "loading cache from /home/antonxue/foo/data/swat/cache/swat_W100_Ctest_Lall.cache\n"
     ]
    },
    {
     "data": {
      "text/plain": [
       "(array([2]),)"
      ]
     },
     "execution_count": 2,
     "metadata": {},
     "output_type": "execute_result"
    }
   ],
   "source": [
    "time_ds = get_timeseries_bundle(ds_name=\"swat\", label_choice = 'all', shuffle=False, test_batch_size=16, train_has_only_goods=True)\n",
    "train_dataloader = time_ds['train_dataloader'] \n",
    "test_dataloader = time_ds['test_dataloader'] \n",
    "for batch in test_dataloader:\n",
    "    x, y, m  = batch\n",
    "    m = m.long()\n",
    "    if y.sum() != 0:\n",
    "        break\n",
    "np.where((m == 1).sum(dim=1).sum(dim=0) != 0)\n"
   ]
  },
  {
   "cell_type": "code",
   "execution_count": 3,
   "metadata": {},
   "outputs": [
    {
     "data": {
      "text/plain": [
       "torch.Size([16, 100])"
      ]
     },
     "execution_count": 3,
     "metadata": {},
     "output_type": "execute_result"
    }
   ],
   "source": [
    "y.shape"
   ]
  },
  {
   "cell_type": "code",
   "execution_count": 4,
   "metadata": {},
   "outputs": [],
   "source": [
    "path = \"/home/antonxue/foo/arpro/_dump/fixer_ts_diffusion_swat_best.pt\"\n",
    "mytsdiff = MyTimeDiffusionModel(feature_dim=51, window_size=100)\n",
    "model_dict = torch.load(path)['model_state_dict']\n",
    "mytsdiff.load_state_dict(model_dict)\n",
    "mytsdiff.cuda();\n"
   ]
  },
  {
   "cell_type": "code",
   "execution_count": 5,
   "metadata": {},
   "outputs": [],
   "source": [
    "ad = GPT2ADModel()\n",
    "path = '/home/antonxue/foo/arpro/_dump/ad_gpt2_swat_best.pt'\n",
    "model_dict = torch.load(path)['model_state_dict']\n",
    "ad.load_state_dict(model_dict)\n",
    "ad.eval().cuda();"
   ]
  },
  {
   "cell_type": "code",
   "execution_count": 6,
   "metadata": {},
   "outputs": [],
   "source": [
    "# ret = mytsdiff(x.cuda(), batch_size=32, progress_bar=True)\n",
    "model_kwargs = {\n",
    "    \"coef\": 1e-2,\n",
    "    \"learning_rate\": 5e-2\n",
    "}\n",
    "m = 1-m\n",
    "# ret = mytsdiff.repair(x.cuda(), (x*m).cuda(), m.long().cuda(), model_kwargs=model_kwargs, sampling_timesteps=500)"
   ]
  },
  {
   "cell_type": "code",
   "execution_count": 7,
   "metadata": {},
   "outputs": [
    {
     "name": "stderr",
     "output_type": "stream",
     "text": [
      "100%|██████████| 100/100 [01:04<00:00,  1.55it/s]26.52, L2 2.46 0.25, L3 0.06 0.06, L4 0.01 0.01, : : 0it [01:04, ?it/s]\n",
      "gs -1.00, avg_L 67.21, curr_L 39.35, L1 36.83 36826.52, L2 2.46 0.25, L3 0.06 0.06, L4 0.01 0.01, : : 0it [01:04, ?it/s]\n"
     ]
    }
   ],
   "source": [
    "noise_level = 100\n",
    "torch.autograd.set_detect_anomaly(True)\n",
    "config = TimeRepairConfig(lr=1e-5, batch_size=16, guide_scale_end=0.1, prop1_scale=10.)\n",
    "guided_ret = time_repair(x.cuda(), m.cuda(), ad, mytsdiff, config, noise_level)\n"
   ]
  },
  {
   "cell_type": "code",
   "execution_count": null,
   "metadata": {},
   "outputs": [],
   "source": [
    "noise_level = 100\n",
    "torch.autograd.set_detect_anomaly(True)\n",
    "config = TimeRepairConfig(lr=1e-5, batch_size=16, guide_scale_end=0.1, prop1_scale=1.)\n",
    "guided_ret = time_repair(x.cuda(), m.cuda(), ad, mytsdiff, config, noise_level)"
   ]
  },
  {
   "cell_type": "code",
   "execution_count": 12,
   "metadata": {},
   "outputs": [
    {
     "data": {
      "text/plain": [
       "torch.Size([16, 100, 51])"
      ]
     },
     "execution_count": 12,
     "metadata": {},
     "output_type": "execute_result"
    }
   ],
   "source": [
    "guided_ret['x_fix'].shape"
   ]
  },
  {
   "cell_type": "code",
   "execution_count": 8,
   "metadata": {},
   "outputs": [],
   "source": [
    "def plot_ts(x, y, idx):\n",
    "    x_to_plot = x[:, idx].detach().cpu()\n",
    "    fig, ax1 = plt.subplots(figsize=(8, 4))\n",
    "\n",
    "    # Plot x on the left y-axis\n",
    "    ax1.plot(x_to_plot, marker='o', linestyle='-', color='blue', label='X Values')\n",
    "    ax1.set_xlabel('Window Index')\n",
    "    ax1.set_ylabel('X Values', color='blue')\n",
    "    ax1.tick_params(axis='y', labelcolor='blue')\n",
    "    ax1.grid(True)\n",
    "\n",
    "    # Highlight anomalies\n",
    "    for i, label in enumerate(y):\n",
    "        if label == 1:\n",
    "            ax1.axvspan(i-0.5, i+0.5, color='red', alpha=0.3)\n",
    "\n",
    "    # Adding legends\n",
    "    lines, labels = ax1.get_legend_handles_labels()\n",
    "    ax1.legend(lines , labels, loc='upper left')"
   ]
  },
  {
   "cell_type": "code",
   "execution_count": 9,
   "metadata": {},
   "outputs": [
    {
     "data": {
      "text/plain": [
       "tensor([0, 0, 0, 0, 0, 0, 0, 0, 0, 0, 0, 0, 0, 0, 0, 0, 0, 0, 0, 0, 0, 0, 0, 0,\n",
       "        0, 0, 0, 0, 0, 0, 0, 0, 0, 0, 0, 0, 0, 0, 0, 0, 0, 0, 0, 0, 0, 0, 0, 0,\n",
       "        0, 0, 0, 0, 0, 0, 0, 0, 0, 0, 0, 0, 0, 0, 0, 0, 0, 0, 0, 0, 0, 0, 0, 0,\n",
       "        0, 0, 0, 0, 0, 0, 0, 0, 0, 0, 0, 0, 0, 0, 0, 0, 0, 0, 0, 0, 1, 1, 1, 1,\n",
       "        1, 1, 1, 1])"
      ]
     },
     "execution_count": 9,
     "metadata": {},
     "output_type": "execute_result"
    }
   ],
   "source": [
    "y[14]"
   ]
  },
  {
   "cell_type": "code",
   "execution_count": 17,
   "metadata": {},
   "outputs": [
    {
     "data": {
      "image/png": "[encoded data removed]",
      "text/plain": [
       "<Figure size 800x400 with 1 Axes>"
      ]
     },
     "metadata": {},
     "output_type": "display_data"
    },
    {
     "data": {
      "image/png": "[encoded data removed]",
      "text/plain": [
       "<Figure size 800x400 with 1 Axes>"
      ]
     },
     "metadata": {},
     "output_type": "display_data"
    }
   ],
   "source": [
    "idx = 2\n",
    "t = 14\n",
    "plot_ts(guided_ret['x_fix'][t], y[t], idx)\n",
    "plot_ts(x[t], y[t], idx)"
   ]
  },
  {
   "cell_type": "code",
   "execution_count": null,
   "metadata": {},
   "outputs": [],
   "source": []
  },
  {
   "cell_type": "code",
   "execution_count": null,
   "metadata": {},
   "outputs": [],
   "source": [
    "ap1d = nn.AvgPool1d(kernel_size=3, stride=1, padding=1)"
   ]
  },
  {
   "cell_type": "code",
   "execution_count": null,
   "metadata": {},
   "outputs": [],
   "source": [
    "x.shape, ap1d(x).shape"
   ]
  },
  {
   "cell_type": "code",
   "execution_count": null,
   "metadata": {},
   "outputs": [],
   "source": [
    "fftx = torch.fft.fft(x).cpu()\n",
    "ffty = torch.fft.fft(ret).cpu()"
   ]
  },
  {
   "cell_type": "code",
   "execution_count": null,
   "metadata": {},
   "outputs": [],
   "source": [
    "fftx.shape, ffty.shape, fftx.dtype"
   ]
  },
  {
   "cell_type": "code",
   "execution_count": null,
   "metadata": {},
   "outputs": [],
   "source": [
    "(fftx - ffty).abs().dtype"
   ]
  },
  {
   "cell_type": "code",
   "execution_count": null,
   "metadata": {},
   "outputs": [],
   "source": [
    "torch.norm(fftx.cpu() - ffty.cpu(), p=2) ** 2 / fftx.numel()"
   ]
  },
  {
   "cell_type": "code",
   "execution_count": null,
   "metadata": {},
   "outputs": [],
   "source": [
    "torch.norm((fftx.cpu() - ffty.cpu)/fftx.numel().sqrt(), p=2) ** 2"
   ]
  },
  {
   "cell_type": "code",
   "execution_count": null,
   "metadata": {},
   "outputs": [],
   "source": [
    "(fftx.cpu() - ffty.cpu()).abs().shape"
   ]
  },
  {
   "cell_type": "code",
   "execution_count": null,
   "metadata": {},
   "outputs": [],
   "source": [
    "torch.view_as_real(fftx).shape"
   ]
  },
  {
   "cell_type": "code",
   "execution_count": null,
   "metadata": {},
   "outputs": [],
   "source": []
  },
  {
   "cell_type": "code",
   "execution_count": null,
   "metadata": {},
   "outputs": [],
   "source": []
  },
  {
   "cell_type": "code",
   "execution_count": null,
   "metadata": {},
   "outputs": [],
   "source": []
  },
  {
   "cell_type": "code",
   "execution_count": null,
   "metadata": {},
   "outputs": [],
   "source": []
  },
  {
   "cell_type": "code",
   "execution_count": null,
   "metadata": {},
   "outputs": [],
   "source": [
    "y"
   ]
  },
  {
   "cell_type": "code",
   "execution_count": null,
   "metadata": {},
   "outputs": [],
   "source": [
    "out = model(x.cuda())\n",
    "x_recon = out.others['x_recon']\n",
    "anomaly_criterion = nn.MSELoss(reduce=False)\n",
    "score = torch.mean(anomaly_criterion(x.cuda(), x_recon), dim=-1)\n",
    "score = score.detach().cpu().numpy()"
   ]
  },
  {
   "cell_type": "code",
   "execution_count": null,
   "metadata": {},
   "outputs": [],
   "source": [
    "attens_energy = []\n",
    "with torch.no_grad():\n",
    "    for i, (batch_x, batch_y, batch_m) in enumerate(train_dataloader):\n",
    "        batch_x = batch_x.float().cuda()\n",
    "        # reconstruction\n",
    "        outputs = model(batch_x)\n",
    "        # criterion\n",
    "        score = torch.mean(anomaly_criterion(batch_x, outputs.others['x_recon']), dim=-1)\n",
    "        score = score.detach().cpu().numpy()\n",
    "        attens_energy.append(score)\n",
    "\n",
    "attens_energy = np.concatenate(attens_energy, axis=0).reshape(-1)\n",
    "train_energy = np.array(attens_energy)\n",
    "\n",
    "# (2) find the threshold\n",
    "attens_energy = []\n",
    "test_labels = []\n",
    "for i, (batch_x, batch_y, batch_m) in enumerate(test_dataloader):\n",
    "    batch_x = batch_x.float().cuda()\n",
    "    # reconstruction\n",
    "    outputs = model(batch_x)\n",
    "    # criterion\n",
    "    score = torch.mean(anomaly_criterion(batch_x, outputs.others['x_recon']), dim=-1)\n",
    "    score = score.detach().cpu().numpy()\n",
    "    attens_energy.append(score)\n",
    "    test_labels.append(batch_y)\n",
    "    break\n",
    "\n"
   ]
  },
  {
   "cell_type": "code",
   "execution_count": null,
   "metadata": {},
   "outputs": [],
   "source": [
    "test_energy.reshape(-1).shape"
   ]
  },
  {
   "cell_type": "code",
   "execution_count": null,
   "metadata": {},
   "outputs": [],
   "source": [
    "# attens_energy = np.concatenate(attens_energy, axis=0).reshape(-1)\n",
    "test_energy = np.array(score)\n",
    "combined_energy = np.concatenate([train_energy, test_energy.reshape(-1)], axis=0)\n",
    "threshold = np.percentile(combined_energy, 80)\n",
    "print(\"Threshold :\", threshold)\n",
    "\n",
    "# (3) evaluation on the test set\n",
    "pred = (test_energy > threshold).astype(int)\n",
    "# test_labels = np.concatenate(test_labels, axis=0).reshape(-1)\n",
    "test_labels = np.array(test_labels)"
   ]
  },
  {
   "cell_type": "code",
   "execution_count": null,
   "metadata": {},
   "outputs": [],
   "source": [
    "pred.shape"
   ]
  },
  {
   "cell_type": "code",
   "execution_count": null,
   "metadata": {},
   "outputs": [],
   "source": [
    "idxs = np.where((m == 1).sum(dim=1).sum(dim=0) != 0)[0]\n",
    "for idx in idxs:\n",
    "\n",
    "    x_to_plot = x[:, -1, idx]\n",
    "    score_to_plot = pred[:, -1]\n",
    "\n",
    "    # Create the plot\n",
    "    fig, ax1 = plt.subplots(figsize=(10, 5))\n",
    "\n",
    "    # Plot x on the left y-axis\n",
    "    ax1.plot(x_to_plot, marker='o', linestyle='-', color='blue', label='X Values')\n",
    "    ax1.set_xlabel('Window Index')\n",
    "    ax1.set_ylabel('X Values', color='blue')\n",
    "    ax1.tick_params(axis='y', labelcolor='blue')\n",
    "    ax1.grid(True)\n",
    "\n",
    "    # Create a second y-axis for the score\n",
    "    ax2 = ax1.twinx()\n",
    "    ax2.plot(score_to_plot, marker='v', linestyle='-', color='green', label='Score')\n",
    "    ax2.set_ylabel('Score', color='green')\n",
    "    ax2.tick_params(axis='y', labelcolor='green')\n",
    "\n",
    "    # Highlight anomalies\n",
    "    for i, label in enumerate(y):\n",
    "        if label == 1:\n",
    "            ax1.axvspan(i-0.5, i+0.5, color='red', alpha=0.3)\n",
    "\n",
    "    # Adding legends\n",
    "    lines, labels = ax1.get_legend_handles_labels()\n",
    "    lines2, labels2 = ax2.get_legend_handles_labels()\n",
    "    ax2.legend(lines + lines2, labels + labels2, loc='upper left')\n",
    "\n",
    "    # plt.title('Plot of X and Score with Anomalies Highlighted')\n",
    "    plt.show()\n",
    "    plt.close()"
   ]
  },
  {
   "cell_type": "code",
   "execution_count": null,
   "metadata": {},
   "outputs": [],
   "source": [
    "score_to_plot"
   ]
  },
  {
   "cell_type": "code",
   "execution_count": null,
   "metadata": {},
   "outputs": [],
   "source": []
  },
  {
   "cell_type": "code",
   "execution_count": null,
   "metadata": {},
   "outputs": [],
   "source": [
    "x"
   ]
  },
  {
   "cell_type": "code",
   "execution_count": null,
   "metadata": {},
   "outputs": [],
   "source": []
  }
 ],
 "metadata": {
  "kernelspec": {
   "display_name": "arpro",
   "language": "python",
   "name": "python3"
  },
  "language_info": {
   "codemirror_mode": {
    "name": "ipython",
    "version": 3
   },
   "file_extension": ".py",
   "mimetype": "text/x-python",
   "name": "python",
   "nbconvert_exporter": "python",
   "pygments_lexer": "ipython3",
   "version": "3.11.8"
  }
 },
 "nbformat": 4,
 "nbformat_minor": 2
}
