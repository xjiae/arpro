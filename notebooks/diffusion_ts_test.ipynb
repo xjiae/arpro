{
 "cells": [
  {
   "cell_type": "code",
   "execution_count": null,
   "id": "91574045-ea2b-4fcd-bd3e-1aebd70e212e",
   "metadata": {},
   "outputs": [],
   "source": [
    "import sys\n",
    "sys.path.append(\"..\")\n",
    "\n",
    "from fixer.models.timeseries_external.gaussian_diffusion import *"
   ]
  },
  {
   "cell_type": "code",
   "execution_count": null,
   "id": "f46b1077-bbaa-4bb1-af65-48378ca115e5",
   "metadata": {},
   "outputs": [],
   "source": [
    "dts = Diffusion_TS(100, 51, d_model=1024)\n",
    "dts.eval().cuda()"
   ]
  },
  {
   "cell_type": "code",
   "execution_count": null,
   "id": "832caba8-8ce5-4ce5-8245-a09242d924d2",
   "metadata": {},
   "outputs": [],
   "source": [
    "dts.num_timesteps"
   ]
  },
  {
   "cell_type": "code",
   "execution_count": null,
   "id": "ba75f392-5abb-4bf0-ac11-69529c662100",
   "metadata": {},
   "outputs": [],
   "source": [
    "x0 = torch.randn(7,100,51).cuda()\n",
    "t = torch.randint(0, dts.num_timesteps, (1,)).cuda()\n",
    "xt = dts.q_sample(x0, t)\n",
    "# (eps_pred, x0_pred) = dts.p_sample(xt, t.item())"
   ]
  },
  {
   "cell_type": "code",
   "execution_count": null,
   "id": "d614704e-67df-4a32-a300-9f1f9fbafa07",
   "metadata": {},
   "outputs": [],
   "source": []
  },
  {
   "cell_type": "code",
   "execution_count": null,
   "id": "e4627715-0c4a-4f94-8e8f-6dec872395da",
   "metadata": {},
   "outputs": [],
   "source": [
    "xt.shape"
   ]
  },
  {
   "cell_type": "code",
   "execution_count": null,
   "id": "719b3033-eca8-43d4-9fb0-cccb54e715cc",
   "metadata": {},
   "outputs": [],
   "source": []
  },
  {
   "cell_type": "code",
   "execution_count": null,
   "id": "7fd360b2-ad90-4aff-82db-ac58927ac288",
   "metadata": {},
   "outputs": [],
   "source": [
    "eps_pred.shape, x0_pred.shape"
   ]
  },
  {
   "cell_type": "code",
   "execution_count": null,
   "id": "bf336f51-569a-4804-bcac-f42e6212f1d1",
   "metadata": {},
   "outputs": [],
   "source": [
    "y = dts.fast_sample((7,100,51))"
   ]
  },
  {
   "cell_type": "code",
   "execution_count": null,
   "id": "154f412c-6fed-4c81-b580-19f708f0f264",
   "metadata": {},
   "outputs": [],
   "source": [
    "dts.num_timesteps"
   ]
  },
  {
   "cell_type": "code",
   "execution_count": null,
   "id": "3fe6092f-1681-4508-8cf4-92568f8b18c2",
   "metadata": {},
   "outputs": [],
   "source": [
    "y.shape"
   ]
  },
  {
   "cell_type": "code",
   "execution_count": null,
   "id": "d18e76c9-e596-4b4b-9b1e-2b979d219173",
   "metadata": {},
   "outputs": [],
   "source": []
  },
  {
   "cell_type": "code",
   "execution_count": null,
   "id": "b19cf727-ad4f-4367-bf16-8b47233e5f53",
   "metadata": {},
   "outputs": [],
   "source": [
    "x.shape"
   ]
  },
  {
   "cell_type": "code",
   "execution_count": null,
   "id": "c89e29aa-f8bc-4666-8dbb-389b6eee0282",
   "metadata": {},
   "outputs": [],
   "source": []
  }
 ],
 "metadata": {
  "kernelspec": {
   "display_name": "Python 3 (ipykernel)",
   "language": "python",
   "name": "python3"
  },
  "language_info": {
   "codemirror_mode": {
    "name": "ipython",
    "version": 3
   },
   "file_extension": ".py",
   "mimetype": "text/x-python",
   "name": "python",
   "nbconvert_exporter": "python",
   "pygments_lexer": "ipython3",
   "version": "3.11.8"
  }
 },
 "nbformat": 4,
 "nbformat_minor": 5
}
