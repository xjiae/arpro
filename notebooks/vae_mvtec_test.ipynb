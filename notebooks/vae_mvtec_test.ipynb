{
 "cells": [
  {
   "cell_type": "code",
   "execution_count": 1,
   "id": "c1f947eb-0b5b-44fb-bfac-df3f94f30a52",
   "metadata": {},
   "outputs": [],
   "source": [
    "import sys\n",
    "sys.path.append(\"..\")\n",
    "\n",
    "import torch\n",
    "import torch.optim as optim\n",
    "\n",
    "import matplotlib.pyplot as plt"
   ]
  },
  {
   "cell_type": "code",
   "execution_count": 2,
   "id": "3f080c5d-65c8-4e65-ae9b-dfd4bb3b5617",
   "metadata": {},
   "outputs": [],
   "source": [
    "from datasets import *\n",
    "from models.ad_models import *"
   ]
  },
  {
   "cell_type": "code",
   "execution_count": null,
   "id": "d3867e44-b1f9-436c-b31a-29a0743d260f",
   "metadata": {},
   "outputs": [],
   "source": []
  },
  {
   "cell_type": "code",
   "execution_count": 3,
   "id": "4f08f748-3d8d-4252-b1ca-fd5fa8b79970",
   "metadata": {},
   "outputs": [],
   "source": [
    "# dataset = MVTecDataset(\"bottle\")\n",
    "dataloader = get_ad_dataloader(\"mvtec\", \"vae\", batch_size = 12, category=\"bottle\")"
   ]
  },
  {
   "cell_type": "code",
   "execution_count": 4,
   "id": "4b264bb9-43af-4d12-93a2-196971428fab",
   "metadata": {},
   "outputs": [],
   "source": [
    "for batch in dataloader:\n",
    "    break"
   ]
  },
  {
   "cell_type": "code",
   "execution_count": 5,
   "id": "a3d1cb01-f355-4a5c-8a2c-9cc0b7d3e3ab",
   "metadata": {},
   "outputs": [
    {
     "data": {
      "text/plain": [
       "torch.Size([12, 3, 256, 256])"
      ]
     },
     "execution_count": 5,
     "metadata": {},
     "output_type": "execute_result"
    }
   ],
   "source": [
    "batch[0].shape"
   ]
  },
  {
   "cell_type": "code",
   "execution_count": 6,
   "id": "b88b1779-8015-48e4-a7fe-ab383832d93f",
   "metadata": {},
   "outputs": [],
   "source": [
    "model = VaeADModel()"
   ]
  },
  {
   "cell_type": "code",
   "execution_count": 7,
   "id": "0ba368f8-0d63-4ddf-bba8-4d5c4578b767",
   "metadata": {},
   "outputs": [
    {
     "data": {
      "text/plain": [
       "torch.Size([12, 3, 256, 256])"
      ]
     },
     "execution_count": 7,
     "metadata": {},
     "output_type": "execute_result"
    }
   ],
   "source": [
    "batch[0].shape"
   ]
  },
  {
   "cell_type": "code",
   "execution_count": 8,
   "id": "e50fda30-2a9f-423c-a7b1-85cd9b9e7c28",
   "metadata": {},
   "outputs": [],
   "source": [
    "out = model(batch[0])"
   ]
  },
  {
   "cell_type": "code",
   "execution_count": null,
   "id": "36b1a287-d795-40fb-9307-6970a2520528",
   "metadata": {},
   "outputs": [],
   "source": []
  },
  {
   "cell_type": "code",
   "execution_count": 18,
   "id": "83bd23a0-1dd7-487b-9371-5759d3702f4e",
   "metadata": {},
   "outputs": [],
   "source": [
    "optimizer = optim.AdamW(model.parameters(), lr=0.1)\n",
    "sched1 = optim.lr_scheduler.LinearLR(optimizer, start_factor=0.1, end_factor=1.0, total_iters=5)\n",
    "sched2 = optim.lr_scheduler.LinearLR(optimizer, start_factor=1.0, end_factor=0.1, total_iters=45)\n",
    "sched = optim.lr_scheduler.SequentialLR(optimizer, schedulers=[sched1, sched2], milestones=[5])"
   ]
  },
  {
   "cell_type": "code",
   "execution_count": 19,
   "id": "42ae2e5e-d2f1-4c27-ac60-53000cd1e125",
   "metadata": {},
   "outputs": [
    {
     "data": {
      "text/plain": [
       "<bound method LRScheduler.get_last_lr of <torch.optim.lr_scheduler.SequentialLR object at 0x7ffaf810a850>>"
      ]
     },
     "execution_count": 19,
     "metadata": {},
     "output_type": "execute_result"
    }
   ],
   "source": [
    "sched.get_last_lr"
   ]
  },
  {
   "cell_type": "code",
   "execution_count": null,
   "id": "748df6bc-eb8e-4481-9919-23f353a82f60",
   "metadata": {},
   "outputs": [],
   "source": []
  },
  {
   "cell_type": "code",
   "execution_count": 20,
   "id": "9e2d891d-6ec9-467a-98ec-bd2846dda933",
   "metadata": {},
   "outputs": [
    {
     "name": "stdout",
     "output_type": "stream",
     "text": [
      "0 [0.010000000000000002]\n",
      "1 [0.028000000000000004]\n",
      "2 [0.046000000000000006]\n",
      "3 [0.064]\n",
      "4 [0.082]\n",
      "5 [0.1]\n",
      "6 [0.098]\n",
      "7 [0.096]\n",
      "8 [0.094]\n",
      "9 [0.092]\n",
      "10 [0.09]\n",
      "11 [0.088]\n",
      "12 [0.086]\n",
      "13 [0.08399999999999999]\n",
      "14 [0.08199999999999999]\n",
      "15 [0.07999999999999999]\n",
      "16 [0.07799999999999999]\n",
      "17 [0.07599999999999998]\n",
      "18 [0.07399999999999998]\n",
      "19 [0.07199999999999998]\n",
      "20 [0.06999999999999998]\n",
      "21 [0.06799999999999998]\n",
      "22 [0.06599999999999998]\n",
      "23 [0.06399999999999997]\n",
      "24 [0.06199999999999997]\n",
      "25 [0.05999999999999998]\n",
      "26 [0.057999999999999975]\n",
      "27 [0.05599999999999998]\n",
      "28 [0.05399999999999998]\n",
      "29 [0.051999999999999984]\n",
      "30 [0.04999999999999999]\n",
      "31 [0.04799999999999999]\n",
      "32 [0.04599999999999999]\n",
      "33 [0.04399999999999999]\n",
      "34 [0.041999999999999996]\n",
      "35 [0.039999999999999994]\n",
      "36 [0.03799999999999999]\n",
      "37 [0.03599999999999999]\n",
      "38 [0.03399999999999999]\n",
      "39 [0.03199999999999999]\n",
      "40 [0.02999999999999999]\n",
      "41 [0.02799999999999999]\n",
      "42 [0.025999999999999992]\n",
      "43 [0.02399999999999999]\n",
      "44 [0.02199999999999999]\n",
      "45 [0.01999999999999999]\n",
      "46 [0.01799999999999999]\n",
      "47 [0.015999999999999993]\n",
      "48 [0.013999999999999992]\n",
      "49 [0.011999999999999992]\n"
     ]
    }
   ],
   "source": [
    "for i in range(50):\n",
    "    print(i, sched.get_last_lr())\n",
    "    sched.step()"
   ]
  },
  {
   "cell_type": "code",
   "execution_count": 22,
   "id": "08051fb5-643d-4d48-b8f0-3d08fd872ae3",
   "metadata": {},
   "outputs": [
    {
     "data": {
      "text/plain": [
       "[0.009999999999999992]"
      ]
     },
     "execution_count": 22,
     "metadata": {},
     "output_type": "execute_result"
    }
   ],
   "source": [
    "sched.get_last_lr()"
   ]
  },
  {
   "cell_type": "code",
   "execution_count": null,
   "id": "84573c26-af5e-4673-a7a5-a46c7580ac08",
   "metadata": {},
   "outputs": [],
   "source": []
  }
 ],
 "metadata": {
  "kernelspec": {
   "display_name": "Python 3 (ipykernel)",
   "language": "python",
   "name": "python3"
  },
  "language_info": {
   "codemirror_mode": {
    "name": "ipython",
    "version": 3
   },
   "file_extension": ".py",
   "mimetype": "text/x-python",
   "name": "python",
   "nbconvert_exporter": "python",
   "pygments_lexer": "ipython3",
   "version": "3.11.8"
  }
 },
 "nbformat": 4,
 "nbformat_minor": 5
}
