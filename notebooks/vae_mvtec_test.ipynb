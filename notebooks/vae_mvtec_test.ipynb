{
 "cells": [
  {
   "cell_type": "code",
   "execution_count": 1,
   "id": "c1f947eb-0b5b-44fb-bfac-df3f94f30a52",
   "metadata": {},
   "outputs": [
    {
     "name": "stderr",
     "output_type": "stream",
     "text": [
      "/home/antonxue/lib/miniconda3/envs/arpro/lib/python3.11/site-packages/tqdm/auto.py:21: TqdmWarning: IProgress not found. Please update jupyter and ipywidgets. See https://ipywidgets.readthedocs.io/en/stable/user_install.html\n",
      "  from .autonotebook import tqdm as notebook_tqdm\n"
     ]
    },
    {
     "ename": "SyntaxError",
     "evalue": "invalid syntax (vision.py, line 45)",
     "output_type": "error",
     "traceback": [
      "Traceback \u001b[0;36m(most recent call last)\u001b[0m:\n",
      "\u001b[0m  File \u001b[1;32m~/lib/miniconda3/envs/arpro/lib/python3.11/site-packages/IPython/core/interactiveshell.py:3577\u001b[0m in \u001b[1;35mrun_code\u001b[0m\n    exec(code_obj, self.user_global_ns, self.user_ns)\u001b[0m\n",
      "\u001b[0m  Cell \u001b[1;32mIn[1], line 10\u001b[0m\n    from models.ad_models import *\u001b[0m\n",
      "\u001b[0m  File \u001b[1;32m~/foo/arpro/notebooks/../models/__init__.py:2\u001b[0m\n    from .fixer_models import *\u001b[0m\n",
      "\u001b[0;36m  File \u001b[0;32m~/foo/arpro/notebooks/../models/fixer_models/__init__.py:1\u001b[0;36m\n\u001b[0;31m    from .vision import *\u001b[0;36m\n",
      "\u001b[0;36m  File \u001b[0;32m~/foo/arpro/notebooks/../models/fixer_models/vision.py:45\u001b[0;36m\u001b[0m\n\u001b[0;31m    \"mu\": mu,\u001b[0m\n\u001b[0m    ^\u001b[0m\n\u001b[0;31mSyntaxError\u001b[0m\u001b[0;31m:\u001b[0m invalid syntax\n"
     ]
    }
   ],
   "source": [
    "import sys\n",
    "sys.path.append(\"..\")\n",
    "\n",
    "import torch\n",
    "import torch.optim as optim\n",
    "\n",
    "import matplotlib.pyplot as plt\n",
    "\n",
    "from datasets import *\n",
    "from models.ad_models import *\n",
    "\n",
    "torch.manual_seed(1234)"
   ]
  },
  {
   "cell_type": "code",
   "execution_count": null,
   "id": "3f080c5d-65c8-4e65-ae9b-dfd4bb3b5617",
   "metadata": {},
   "outputs": [],
   "source": []
  },
  {
   "cell_type": "code",
   "execution_count": null,
   "id": "d3867e44-b1f9-436c-b31a-29a0743d260f",
   "metadata": {},
   "outputs": [],
   "source": [
    "model = VaeADModel()\n",
    "state_dict = torch.load(\"../_dump/vae_mvtec_transistor_best.pt\")[\"model_state_dict\"]\n",
    "model.load_state_dict(state_dict)\n",
    "model.eval()\n",
    ";"
   ]
  },
  {
   "cell_type": "code",
   "execution_count": null,
   "id": "df7d8fa6-493c-42b4-83cb-31e9ba98c485",
   "metadata": {},
   "outputs": [],
   "source": []
  },
  {
   "cell_type": "code",
   "execution_count": null,
   "id": "4f08f748-3d8d-4252-b1ca-fd5fa8b79970",
   "metadata": {},
   "outputs": [],
   "source": [
    "torch.manual_seed(1234)\n",
    "dataloader = get_ad_dataloader(\"mvtec\", \"vae\", batch_size=8, category=\"transistor\", split=\"test\", normalize_image=False)\n",
    "for batch in dataloader:\n",
    "    break"
   ]
  },
  {
   "cell_type": "code",
   "execution_count": null,
   "id": "6bdfe3b1-027e-4004-8c9d-ffcc94f1b6c2",
   "metadata": {},
   "outputs": [],
   "source": [
    "batch[\"label\"]"
   ]
  },
  {
   "cell_type": "code",
   "execution_count": null,
   "id": "afe72256-a44b-437b-9c5f-4552d3868178",
   "metadata": {},
   "outputs": [],
   "source": []
  },
  {
   "cell_type": "code",
   "execution_count": null,
   "id": "f37472c4-2d89-4ed3-ad37-0ca1c85d9139",
   "metadata": {},
   "outputs": [],
   "source": [
    "with torch.no_grad():\n",
    "    x = batch[\"image\"]\n",
    "    out = model(2*x - 1)"
   ]
  },
  {
   "cell_type": "code",
   "execution_count": null,
   "id": "e794d2d7-6a04-446b-bc3b-ba1542385015",
   "metadata": {},
   "outputs": [],
   "source": []
  },
  {
   "cell_type": "code",
   "execution_count": null,
   "id": "a360984a-60bd-42ad-b60a-9f781d9a3ce7",
   "metadata": {},
   "outputs": [],
   "source": [
    "score = out.score\n",
    "thresh = out.alpha.flatten(1).quantile(0.99, dim=1)\n",
    "batch[\"label\"], score, thresh"
   ]
  },
  {
   "cell_type": "code",
   "execution_count": null,
   "id": "01c06f3a-7728-465d-964c-1b3696132864",
   "metadata": {},
   "outputs": [],
   "source": [
    "plt.clf()\n",
    "\n",
    "fig, ax = plt.subplots(4,8, figsize=(12, 8))\n",
    "for i in range(8):\n",
    "    xi = x[i].detach()\n",
    "    xhati = (out.others[\"x_recon\"][i].detach()*0.5 + 0.5).clamp(0,1)\n",
    "    alphai = out.alpha[i].abs().max(dim=0).values.detach()\n",
    "    alphai_big = alphai > thresh[i]\n",
    "    ax[0,i].imshow(xi.numpy().transpose(1,2,0))\n",
    "    ax[1,i].imshow(xhati.numpy().transpose(1,2,0))\n",
    "    ax[2,i].imshow(alphai.numpy())\n",
    "    ax[3,i].imshow(alphai_big.numpy())\n",
    "    "
   ]
  },
  {
   "cell_type": "code",
   "execution_count": null,
   "id": "18e6c166-9b72-468f-b264-853e0936f204",
   "metadata": {},
   "outputs": [],
   "source": []
  },
  {
   "cell_type": "code",
   "execution_count": null,
   "id": "6fad1607-507d-4511-b14a-c106c98f2912",
   "metadata": {},
   "outputs": [],
   "source": []
  },
  {
   "cell_type": "code",
   "execution_count": null,
   "id": "bc73a1c0-e1f2-46ae-897e-4f54f5dc1a2d",
   "metadata": {},
   "outputs": [],
   "source": []
  }
 ],
 "metadata": {
  "kernelspec": {
   "display_name": "Python 3 (ipykernel)",
   "language": "python",
   "name": "python3"
  },
  "language_info": {
   "codemirror_mode": {
    "name": "ipython",
    "version": 3
   },
   "file_extension": ".py",
   "mimetype": "text/x-python",
   "name": "python",
   "nbconvert_exporter": "python",
   "pygments_lexer": "ipython3",
   "version": "3.11.8"
  }
 },
 "nbformat": 4,
 "nbformat_minor": 5
}
